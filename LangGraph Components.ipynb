{
  "nbformat": 4,
  "nbformat_minor": 0,
  "metadata": {
    "colab": {
      "provenance": [],
      "authorship_tag": "ABX9TyPuYbbKIPJdhEumSwqj1dZe"
    },
    "kernelspec": {
      "name": "python3",
      "display_name": "Python 3"
    },
    "language_info": {
      "name": "python"
    }
  },
  "cells": [
    {
      "cell_type": "markdown",
      "source": [
        "The significant aspects and concepts involved in LangGraph:\n",
        "\n",
        "* **StateGraph:** This is the core class you instantiate to define the structure of your chatbot as a graph of states and transitions. It manages the nodes and edges.\n",
        "* **Graph Traversal:** This refers to the process of moving through the nodes of the graph based on the defined edges and conditions during a conversation.\n",
        "* **Configuration:** When running the graph, you'll often provide configuration settings, such as the initial state and input.\n",
        "* **Input:** The initial data provided to the LangGraph to start a conversation turn (often the user's first message).\n",
        "* **Output:** The final state or a specific part of the state that represents the chatbot's response or the outcome of the conversation turn.\n",
        "* **Callbacks:** Since LangGraph often integrates with LangChain, callback handlers can be used to monitor and interact with different stages of the graph execution (e.g., logging, tracing).\n",
        "* **Runnables:** Nodes in LangGraph can often leverage LangChain's `Runnable` interface, allowing for composable sequences of operations within a node.\n",
        "* **Tools:** LangGraph facilitates the integration of LangChain's tools, which allow the chatbot to interact with the outside world.\n",
        "* **Memory:** While the `State` in LangGraph manages the current turn's information, integrating LangChain's memory components can enable the chatbot to retain information across multiple turns.\n",
        "\n"
      ],
      "metadata": {
        "id": "th9_8oN-1gg6"
      }
    },
    {
      "cell_type": "code",
      "execution_count": 3,
      "metadata": {
        "id": "fRY7rtkOlNwn"
      },
      "outputs": [],
      "source": [
        "%%capture --no-stderr\n",
        "%pip install -U langgraph langsmith\n",
        "%pip install langgraph langchain google-generativeai\n",
        "%pip install langchain_google_genai"
      ]
    },
    {
      "cell_type": "markdown",
      "source": [
        "# https://aistudio.google.com/apikey - Gemini API Key"
      ],
      "metadata": {
        "id": "I9dRVno6xDND"
      }
    },
    {
      "cell_type": "code",
      "source": [
        "import getpass\n",
        "import os\n",
        "\n",
        "\n",
        "def _set_env(var: str):\n",
        "    if not os.environ.get(var):\n",
        "        os.environ[var] = getpass.getpass(f\"{var}: \")\n",
        "\n",
        "\n",
        "_set_env(\"GOOGLE_API_KEY\")"
      ],
      "metadata": {
        "colab": {
          "base_uri": "https://localhost:8080/"
        },
        "id": "Xd34K2KUlVC4",
        "outputId": "65d76e10-c46a-404e-979f-14dfd0e5857e"
      },
      "execution_count": 4,
      "outputs": [
        {
          "name": "stdout",
          "output_type": "stream",
          "text": [
            "GOOGLE_API_KEY: ··········\n"
          ]
        }
      ]
    },
    {
      "cell_type": "markdown",
      "source": [
        "We will start by building a basic LangGraph chatbot using a StateGraph with nodes for the LLM and functions, and edges to define the conversational flow, resulting in a rudimentary working chatbot."
      ],
      "metadata": {
        "id": "a_ndncx4l0wj"
      }
    },
    {
      "cell_type": "markdown",
      "source": [
        "# **StateGraph**"
      ],
      "metadata": {
        "id": "NkRHP7Oy2Fwn"
      }
    },
    {
      "cell_type": "code",
      "source": [
        "from typing import Annotated\n",
        "\n",
        "from typing_extensions import TypedDict\n",
        "\n",
        "from langgraph.graph import StateGraph, START, END\n",
        "from langgraph.graph.message import add_messages\n",
        "\n",
        "\n",
        "class State(TypedDict):\n",
        "    # Messages have the type \"list\". The `add_messages` function\n",
        "    # in the annotation defines how this state key should be updated\n",
        "    # (in this case, it appends messages to the list, rather than overwriting them)\n",
        "    messages: Annotated[list, add_messages]\n",
        "\n",
        "\n",
        "graph_builder = StateGraph(State)"
      ],
      "metadata": {
        "id": "5-PuUU5fl3HW"
      },
      "execution_count": 17,
      "outputs": []
    },
    {
      "cell_type": "code",
      "source": [
        "import google.generativeai as genai\n",
        "import os\n",
        "from langchain_google_genai import ChatGoogleGenerativeAI\n",
        "\n",
        "genai.configure(api_key=os.getenv(\"GOOGLE_API_KEY\"))\n",
        "\n",
        "llm = ChatGoogleGenerativeAI(model=\"gemini-1.5-flash\")\n",
        "\n",
        "def chatbot(state: State):\n",
        "    return {\"messages\": [llm.invoke(state[\"messages\"])]}\n",
        "\n",
        "graph_builder.add_node(\"chatbot\", chatbot)\n",
        "graph_builder.add_edge(START, \"chatbot\")\n",
        "graph_builder.add_edge(\"chatbot\", END)\n",
        "\n",
        "graph = graph_builder.compile()"
      ],
      "metadata": {
        "id": "nXXDrThLmsTp"
      },
      "execution_count": 18,
      "outputs": []
    },
    {
      "cell_type": "code",
      "source": [
        "from IPython.display import Image, display\n",
        "\n",
        "try:\n",
        "    display(Image(graph.get_graph().draw_mermaid_png()))\n",
        "except Exception:\n",
        "    # This requires some extra dependencies and is optional\n",
        "    pass"
      ],
      "metadata": {
        "colab": {
          "base_uri": "https://localhost:8080/",
          "height": 251
        },
        "id": "afntgjl4m4eJ",
        "outputId": "997f79ae-6fd4-48de-df04-19db61a4251c"
      },
      "execution_count": 19,
      "outputs": [
        {
          "output_type": "display_data",
          "data": {
            "image/png": "[encoded data removed]",
            "text/plain": [
              "<IPython.core.display.Image object>"
            ]
          },
          "metadata": {}
        }
      ]
    },
    {
      "cell_type": "markdown",
      "source": [
        "In this image representing a simple LangGraph, we can identify the following:\n",
        "\n",
        "1. **Nodes**: The labeled shapes represent nodes. Here, we have three nodes:\n",
        "\n",
        "        __start__: This is a special starting node, indicating where the conversation begins.\n",
        "\n",
        "        chatbot: This node represents the core logic of the chatbot, where user input is processed (e.g., by an LLM or a function).\n",
        "\n",
        "        __end__: This is a special ending node, indicating where the conversation concludes for a particular turn or flow.\n",
        "\n",
        "2. **Edges:** The arrows connecting the nodes represent edges. They define the flow of the conversation:\n",
        "\n",
        "        There is a directed edge going from the __start__ node to the chatbot node, meaning after the start, the process moves to the chatbot logic.\n",
        "        \n",
        "        There is another directed edge going from the chatbot node to the __end__ node, meaning after the chatbot processing, the flow reaches the end.\n",
        "\n",
        "3. **State**: While the image doesn't explicitly show the state, it's implicitly managed as the conversation moves through these nodes.\n",
        "        \n",
        "        The chatbot node would receive the current state (which might include the user's message and any previous context), process it, and potentially update the state before the flow reaches the __end__ node.\n",
        "        \n",
        "        The state is the information that persists and evolves as the conversation moves through the nodes connected by the edges."
      ],
      "metadata": {
        "id": "OtCDebG2nVyN"
      }
    },
    {
      "cell_type": "code",
      "source": [
        "def stream_graph_updates(user_input: str):\n",
        "    for event in graph.stream({\"messages\": [{\"role\": \"user\", \"content\": user_input}]}):\n",
        "        for value in event.values():\n",
        "            print(\"Assistant:\", value[\"messages\"][-1].content)\n",
        "\n",
        "\n",
        "while True:\n",
        "    try:\n",
        "        user_input = input(\"User: \")\n",
        "        if user_input.lower() in [\"quit\", \"exit\", \"q\"]:\n",
        "            print(\"Goodbye!\")\n",
        "            break\n",
        "        stream_graph_updates(user_input)\n",
        "    except:\n",
        "        # fallback if input() is not available\n",
        "        user_input = \"What do you know about LangGraph?\"\n",
        "        print(\"User: \" + user_input)\n",
        "        stream_graph_updates(user_input)\n",
        "        break"
      ],
      "metadata": {
        "colab": {
          "base_uri": "https://localhost:8080/"
        },
        "id": "8FLT9WxTnu2o",
        "outputId": "404521d6-8f3d-4e4e-f7f0-dc025f4ed975"
      },
      "execution_count": 20,
      "outputs": [
        {
          "output_type": "stream",
          "name": "stdout",
          "text": [
            "User: Hi, how are you?\n",
            "Assistant: I'm doing well, thank you for asking!  How are you today?\n",
            "User: Do you know who is the President of US?\n",
            "Assistant: The current President of the United States is Joe Biden.\n",
            "User: My name is Subham\n",
            "Assistant: It's nice to meet you, Subham!\n",
            "User: Do you know my name?\n",
            "Assistant: No, I do not know your name.  I have no memory of past conversations.  Each interaction with me starts fresh.\n",
            "User: What do you know about LangGraph?\n",
            "Assistant: LangGraph is a relatively new and evolving project focused on creating large language models (LLMs) that are more **explainable and interpretable** than traditional black-box models.  It differs from many other LLMs by emphasizing the creation of a **knowledge graph** alongside the language model itself.\n",
            "\n",
            "Here's what we know about its key aspects:\n",
            "\n",
            "* **Knowledge Graph Integration:**  The core innovation is the tight integration of a knowledge graph.  This graph represents factual knowledge and relationships between entities, allowing the LLM to ground its reasoning and predictions in structured data. This helps improve the accuracy and reliability of the model's outputs, especially for tasks requiring factual recall.\n",
            "\n",
            "* **Improved Explainability:** By tracing the LLM's reasoning through the knowledge graph, it becomes easier to understand *why* the model produced a particular output.  This is a significant advantage over many LLMs where the internal workings are opaque.  This explainability is crucial for trust and debugging.\n",
            "\n",
            "* **Enhanced Reasoning Capabilities:** The knowledge graph provides a structured framework for the LLM to perform logical reasoning and inference. This enables the model to handle more complex questions and tasks that require deeper understanding of relationships between concepts.\n",
            "\n",
            "* **Modular Design:**  Often, LangGraph projects are designed in a modular way, allowing for easier updates and extensions to both the knowledge graph and the LLM components.\n",
            "\n",
            "* **Specific Applications:** While the exact applications are still developing, LangGraph's capabilities suggest potential use in areas requiring high accuracy and explainability, such as:\n",
            "    * **Scientific discovery:**  Reasoning over scientific literature and databases.\n",
            "    * **Medical diagnosis and treatment:**  Integrating medical knowledge graphs with LLMs for improved decision support.\n",
            "    * **Financial analysis:**  Analyzing financial data and making informed predictions.\n",
            "    * **Legal research:**  Extracting information and reasoning over legal documents.\n",
            "\n",
            "\n",
            "**Limitations and Challenges:**\n",
            "\n",
            "* **Knowledge Graph Construction:**  Building and maintaining a comprehensive and accurate knowledge graph is a significant challenge.  It requires substantial effort in data curation, ontology design, and knowledge integration.\n",
            "\n",
            "* **Scalability:**  Integrating large knowledge graphs with LLMs can present scalability challenges, both in terms of computational resources and model training.\n",
            "\n",
            "* **Bias and Completeness:**  Knowledge graphs can inherit biases present in the data used to construct them.  Ensuring completeness and addressing biases is vital for building reliable and fair LangGraph systems.\n",
            "\n",
            "\n",
            "In short, LangGraph represents a promising direction in LLM research, aiming to address the limitations of black-box models by incorporating structured knowledge and enhancing explainability. However, it's still a relatively nascent field, and further research and development are needed to fully realize its potential.  There isn't one single \"LangGraph\" project; the term describes a general approach and various research groups may be working on implementations with different focuses.\n",
            "User: q\n",
            "Goodbye!\n"
          ]
        }
      ]
    },
    {
      "cell_type": "markdown",
      "source": [
        "## https://tavily.com/ - Tavily API"
      ],
      "metadata": {
        "id": "yW1a12jO2kRw"
      }
    },
    {
      "cell_type": "code",
      "source": [
        "%%capture --no-stderr\n",
        "%pip install -U tavily-python langchain_community"
      ],
      "metadata": {
        "id": "I5gpOpmu0_qs"
      },
      "execution_count": 9,
      "outputs": []
    },
    {
      "cell_type": "code",
      "source": [
        "_set_env(\"TAVILY_API_KEY\")"
      ],
      "metadata": {
        "colab": {
          "base_uri": "https://localhost:8080/"
        },
        "id": "6Mx1_LmW2RP8",
        "outputId": "bd381a48-7345-44f7-b07a-11d0fcd27097"
      },
      "execution_count": 10,
      "outputs": [
        {
          "name": "stdout",
          "output_type": "stream",
          "text": [
            "TAVILY_API_KEY: ··········\n"
          ]
        }
      ]
    },
    {
      "cell_type": "markdown",
      "source": [
        "# **Tools**"
      ],
      "metadata": {
        "id": "7tfng9ie21i1"
      }
    },
    {
      "cell_type": "code",
      "source": [
        "from langchain_community.tools.tavily_search import TavilySearchResults\n",
        "\n",
        "tool = TavilySearchResults(max_results=2)\n",
        "tools = [tool]"
      ],
      "metadata": {
        "id": "2ry86QJd2cYV"
      },
      "execution_count": 11,
      "outputs": []
    },
    {
      "cell_type": "code",
      "source": [
        "tool.invoke(\"What's a 'node' in LangGraph?\")"
      ],
      "metadata": {
        "id": "padk5xw826X7"
      },
      "execution_count": null,
      "outputs": []
    },
    {
      "cell_type": "markdown",
      "source": [
        "**The results are page summaries our chat bot can use to answer questions.**"
      ],
      "metadata": {
        "id": "xxXT8hqe3c4P"
      }
    },
    {
      "cell_type": "code",
      "source": [
        "from typing import Annotated\n",
        "from typing_extensions import TypedDict\n",
        "\n",
        "from langgraph.graph import StateGraph, START, END\n",
        "from langgraph.graph.message import add_messages\n",
        "\n",
        "\n",
        "class State(TypedDict):\n",
        "    messages: Annotated[list, add_messages]\n",
        "\n",
        "\n",
        "graph_builder = StateGraph(State)\n",
        "\n",
        "\n",
        "\n",
        "import google.generativeai as genai\n",
        "import os\n",
        "from langchain_google_genai import ChatGoogleGenerativeAI\n",
        "\n",
        "genai.configure(api_key=os.getenv(\"GOOGLE_API_KEY\"))\n",
        "\n",
        "llm = ChatGoogleGenerativeAI(model=\"gemini-2.0-flash-exp\")\n",
        "\n",
        "llm_with_tools = llm.bind_tools(tools)\n",
        "\n",
        "\n",
        "\n",
        "def chatbot(state: State):\n",
        "    return {\"messages\": [llm_with_tools.invoke(state[\"messages\"])]}\n",
        "\n",
        "\n",
        "graph_builder.add_node(\"chatbot\", chatbot)"
      ],
      "metadata": {
        "colab": {
          "base_uri": "https://localhost:8080/"
        },
        "id": "Fu36N44V3F57",
        "outputId": "899ffdd3-62c4-4a16-8757-d2f0088a4fc7"
      },
      "execution_count": 12,
      "outputs": [
        {
          "output_type": "execute_result",
          "data": {
            "text/plain": [
              "<langgraph.graph.state.StateGraph at 0x7aa6506adf90>"
            ]
          },
          "metadata": {},
          "execution_count": 12
        }
      ]
    },
    {
      "cell_type": "code",
      "source": [
        "import json\n",
        "\n",
        "from langchain_core.messages import ToolMessage\n",
        "\n",
        "\n",
        "class BasicToolNode:\n",
        "    \"\"\"A node that runs the tools requested in the last AIMessage.\"\"\"\n",
        "\n",
        "    def __init__(self, tools: list) -> None:\n",
        "        self.tools_by_name = {tool.name: tool for tool in tools}\n",
        "\n",
        "    def __call__(self, inputs: dict):\n",
        "        if messages := inputs.get(\"messages\", []):\n",
        "            message = messages[-1]\n",
        "        else:\n",
        "            raise ValueError(\"No message found in input\")\n",
        "        outputs = []\n",
        "        for tool_call in message.tool_calls:\n",
        "            tool_result = self.tools_by_name[tool_call[\"name\"]].invoke(\n",
        "                tool_call[\"args\"]\n",
        "            )\n",
        "            outputs.append(\n",
        "                ToolMessage(\n",
        "                    content=json.dumps(tool_result),\n",
        "                    name=tool_call[\"name\"],\n",
        "                    tool_call_id=tool_call[\"id\"],\n",
        "                )\n",
        "            )\n",
        "        return {\"messages\": outputs}\n",
        "\n",
        "\n",
        "tool_node = BasicToolNode(tools=[tool])\n",
        "graph_builder.add_node(\"tools\", tool_node)"
      ],
      "metadata": {
        "colab": {
          "base_uri": "https://localhost:8080/"
        },
        "id": "pTd2FoIA3zDx",
        "outputId": "e68fc775-e2fd-4dbd-b0ba-968280e7d190"
      },
      "execution_count": 13,
      "outputs": [
        {
          "output_type": "execute_result",
          "data": {
            "text/plain": [
              "<langgraph.graph.state.StateGraph at 0x7aa6506adf90>"
            ]
          },
          "metadata": {},
          "execution_count": 13
        }
      ]
    },
    {
      "cell_type": "markdown",
      "source": [
        "After adding the tool node, we'll define conditional_edges using a route_tools function. This function will examine the chatbot's output for tool calls and direct the flow to the tools node if present, or to the END node otherwise, using add_conditional_edges."
      ],
      "metadata": {
        "id": "Y1CZFDiU897z"
      }
    },
    {
      "cell_type": "code",
      "source": [
        "def route_tools(\n",
        "    state: State,\n",
        "):\n",
        "    \"\"\"\n",
        "    Use in the conditional_edge to route to the ToolNode if the last message\n",
        "    has tool calls. Otherwise, route to the end.\n",
        "    \"\"\"\n",
        "    if isinstance(state, list):\n",
        "        ai_message = state[-1]\n",
        "    elif messages := state.get(\"messages\", []):\n",
        "        ai_message = messages[-1]\n",
        "    else:\n",
        "        raise ValueError(f\"No messages found in input state to tool_edge: {state}\")\n",
        "    if hasattr(ai_message, \"tool_calls\") and len(ai_message.tool_calls) > 0:\n",
        "        return \"tools\"\n",
        "    return END\n",
        "\n",
        "\n",
        "# The `tools_condition` function returns \"tools\" if the chatbot asks to use a tool, and \"END\" if\n",
        "# it is fine directly responding. This conditional routing defines the main agent loop.\n",
        "graph_builder.add_conditional_edges(\n",
        "    \"chatbot\",\n",
        "    route_tools,\n",
        "    # The following dictionary lets you tell the graph to interpret the condition's outputs as a specific node\n",
        "    # It defaults to the identity function, but if you\n",
        "    # want to use a node named something else apart from \"tools\",\n",
        "    # You can update the value of the dictionary to something else\n",
        "    # e.g., \"tools\": \"my_tools\"\n",
        "    {\"tools\": \"tools\", END: END},\n",
        ")\n",
        "# Any time a tool is called, we return to the chatbot to decide the next step\n",
        "graph_builder.add_edge(\"tools\", \"chatbot\")\n",
        "graph_builder.add_edge(START, \"chatbot\")\n",
        "graph = graph_builder.compile()"
      ],
      "metadata": {
        "id": "7biAKYiO5-aY"
      },
      "execution_count": 14,
      "outputs": []
    },
    {
      "cell_type": "code",
      "source": [
        "from IPython.display import Image, display\n",
        "\n",
        "try:\n",
        "    display(Image(graph.get_graph().draw_mermaid_png()))\n",
        "except Exception:\n",
        "    # This requires some extra dependencies and is optional\n",
        "    pass"
      ],
      "metadata": {
        "colab": {
          "base_uri": "https://localhost:8080/",
          "height": 266
        },
        "id": "nfdyxlOG8w-a",
        "outputId": "a085c771-2e5b-40ee-f6cd-1b9269532f71"
      },
      "execution_count": 15,
      "outputs": [
        {
          "output_type": "display_data",
          "data": {
            "image/png": "[encoded data removed]",
            "text/plain": [
              "<IPython.core.display.Image object>"
            ]
          },
          "metadata": {}
        }
      ]
    },
    {
      "cell_type": "code",
      "source": [
        "def stream_graph_updates(user_input: str):\n",
        "    for event in graph.stream({\"messages\": [{\"role\": \"user\", \"content\": user_input}]}):\n",
        "        for value in event.values():\n",
        "            print(\"Assistant:\", value[\"messages\"][-1].content)\n",
        "\n",
        "while True:\n",
        "    try:\n",
        "        user_input = input(\"User: \")\n",
        "        if user_input.lower() in [\"quit\", \"exit\", \"q\"]:\n",
        "            print(\"Goodbye!\")\n",
        "            break\n",
        "\n",
        "        stream_graph_updates(user_input)\n",
        "    except:\n",
        "        # fallback if input() is not available\n",
        "        user_input = \"What do you know about LangGraph?\"\n",
        "        print(\"User: \" + user_input)\n",
        "        stream_graph_updates(user_input)\n",
        "        break"
      ],
      "metadata": {
        "colab": {
          "base_uri": "https://localhost:8080/"
        },
        "id": "od1xQSBe9PD5",
        "outputId": "98144e9c-da63-42eb-abb4-bcd3fbaf3059"
      },
      "execution_count": 16,
      "outputs": [
        {
          "output_type": "stream",
          "name": "stdout",
          "text": [
            "User: What do you know about LangGraph?\n",
            "Assistant: \n",
            "Assistant: [{\"title\": \"LangGraph Quickstart - GitHub Pages\", \"url\": \"https://langchain-ai.github.io/langgraph/tutorials/introduction/\", \"content\": \"[](https://langchain-ai.github.io/langgraph/tutorials/introduction/#__codelineno-9-1)Assistant: LangGraph is a library designed to help build stateful multi-agent applications using language models. It provides tools for creating workflows and state machines to coordinate multiple AI agents or language model interactions. LangGraph is built on top of LangChain, leveraging its components while adding graph-based coordination capabilities. It's particularly useful for developing more complex, [...] [](https://langchain-ai.github.io/langgraph/tutorials/introduction/#__codelineno-21-6)   LangGraph is a library designed for building stateful, multi-actor applications with Large Language Models (LLMs). It's particularly useful for creating agent and multi-agent workflows.\\n[](https://langchain-ai.github.io/langgraph/tutorials/introduction/#__codelineno-21-7)\\n[](https://langchain-ai.github.io/langgraph/tutorials/introduction/#__codelineno-21-8)2. Developer: [...] [](https://langchain-ai.github.io/langgraph/tutorials/introduction/#__codelineno-48-19)LangGraph is likely a framework or library designed specifically for creating AI agents with advanced capabilities. Here are a few points to consider based on this recommendation:\\n[](https://langchain-ai.github.io/langgraph/tutorials/introduction/#__codelineno-48-20)\", \"score\": 0.9328032}, {\"title\": \"LangGraph: Build Stateful AI Agents in Python - Real Python\", \"url\": \"https://realpython.com/langgraph-python/\", \"content\": \"Remove ads\\nLangGraph is a versatile Python library designed for stateful, cyclic, and multi-actor Large Language Model (LLM) applications. LangGraph builds upon its parent library, LangChain, and allows you to build sophisticated workflows that are capable of handling the complexities of real-world LLM applications.\\nBy the end of this tutorial, you\\u2019ll understand that: [...] These FAQs are related to the most important concepts you\\u2019ve covered in this tutorial. Click the Show/Hide toggle beside each question to reveal the answer.\\nWhat is LangGraph?Show/Hide\\nLangGraph is a Python library that helps you build stateful, cyclic, and multi-actor workflows for Large Language Model (LLM) applications, expanding upon LangChain\\u2019s capabilities.\\nHow does LangGraph differ from LangChain?Show/Hide [...] As you might have inferred from the name, LangGraph is all about implementing LLM applications as directed graphs. You can think of a directed graph as a sequence of instructions composed of nodes and edges, that tell you how to complete a task. In LangGraph, nodes represent actions that your graph can take, such as calling a function, and edges tell you which node to go to next.\\nTo understand this better, take a look at this directed graph:\", \"score\": 0.9184877}]\n",
            "Assistant: LangGraph is a Python library built on top of LangChain that helps build stateful, multi-actor applications with Large Language Models (LLMs). It is designed for creating agent and multi-agent workflows by implementing LLM applications as directed graphs, where nodes represent actions and edges dictate the next node to visit. It allows you to build sophisticated workflows that are capable of handling the complexities of real-world LLM applications.\n",
            "User: Do you know who is the President of US?\n",
            "Assistant: \n",
            "Assistant: [{\"title\": \"Presidents, vice presidents, and first ladies | USAGov\", \"url\": \"https://www.usa.gov/presidents\", \"content\": \"Current president\\nThe 47th and current president of the United States is Donald John Trump.\\u00a0He was sworn into office on January 20, 2025.\\nFormer U.S. presidents\\nThe United States has had 46 former U.S. presidents. Read about past presidents and vice presidents.\\nMany former presidents have presidential libraries and museums you can visit to learn about their lives and their time in office. Find presidential libraries and museums.\\nRequirements to be eligible to become president\", \"score\": 0.8409005}, {\"title\": \"List of presidents of the United States - Wikipedia\", \"url\": \"https://en.wikipedia.org/wiki/List_of_presidents_of_the_United_States\", \"content\": \"The president of the United States is the head of state and head of government of the United States,[1] indirectly elected to a four-year term via the Electoral College.[2] Under the U.S. Constitution, the officeholder leads the executive branch of the federal government and is the commander-in-chief of the United States Armed Forces.[3] The first president, George Washington, won a unanimous vote of the Electoral College.[4] The incumbent president is Donald Trump, who assumed office on [...] John F. Kennedy (1961\\u20131963)\\nLyndon B. Johnson (1963\\u20131969)\\nRichard Nixon (1969\\u20131974)\\nGerald Ford (1974\\u20131977)\\nJimmy Carter (1977\\u20131981)\\nRonald Reagan (1981\\u20131989)\\nGeorge H. W. Bush (1989\\u20131993)\\nBill Clinton (1993\\u20132001)\\nGeorge W. Bush (2001\\u20132009)\\nBarack Obama (2009\\u20132017)\\nDonald Trump (2017\\u20132021)\\nJoe Biden (2021\\u20132025)\\nDonald Trump (2025\\u2013present) [...] January 20, 2025.[5][6] Since the office was established in 1789, 45 men have served in 47 presidencies; the discrepancy arises from two individuals elected to non-consecutive terms: Grover Cleveland is counted as the 22nd and 24th president of the United States, while Donald Trump is counted as the 45th and 47th president.[7][8]\", \"score\": 0.83678174}]\n",
            "Assistant: The current president of the United States is Donald John Trump. He was sworn into office on January 20, 2025.\n",
            "User: q\n",
            "Goodbye!\n"
          ]
        }
      ]
    },
    {
      "cell_type": "markdown",
      "source": [
        "# **Memory**"
      ],
      "metadata": {
        "id": "Ij42TepEKPfg"
      }
    },
    {
      "cell_type": "code",
      "source": [
        "from langgraph.checkpoint.memory import MemorySaver\n",
        "\n",
        "memory = MemorySaver()"
      ],
      "metadata": {
        "id": "RX-KWVHvERrK"
      },
      "execution_count": 21,
      "outputs": []
    },
    {
      "cell_type": "code",
      "source": [
        "from typing import Annotated\n",
        "\n",
        "\n",
        "import google.generativeai as genai\n",
        "import os\n",
        "from langchain_google_genai import ChatGoogleGenerativeAI\n",
        "\n",
        "genai.configure(api_key=os.getenv(\"GOOGLE_API_KEY\"))\n",
        "\n",
        "\n",
        "from langchain_community.tools.tavily_search import TavilySearchResults\n",
        "from langchain_core.messages import BaseMessage\n",
        "from typing_extensions import TypedDict\n",
        "\n",
        "from langgraph.graph import StateGraph, START, END\n",
        "from langgraph.graph.message import add_messages\n",
        "from langgraph.prebuilt import ToolNode, tools_condition\n",
        "\n",
        "\n",
        "class State(TypedDict):\n",
        "    messages: Annotated[list, add_messages]\n",
        "\n",
        "\n",
        "graph_builder = StateGraph(State)\n",
        "\n",
        "\n",
        "tool = TavilySearchResults(max_results=2)\n",
        "tools = [tool]\n",
        "llm = ChatGoogleGenerativeAI(model=\"gemini-2.0-flash-exp\")\n",
        "llm_with_tools = llm.bind_tools(tools)\n",
        "\n",
        "\n",
        "def chatbot(state: State):\n",
        "    return {\"messages\": [llm_with_tools.invoke(state[\"messages\"])]}\n",
        "\n",
        "\n",
        "graph_builder.add_node(\"chatbot\", chatbot)\n",
        "\n",
        "tool_node = ToolNode(tools=[tool])\n",
        "graph_builder.add_node(\"tools\", tool_node)\n",
        "\n",
        "graph_builder.add_conditional_edges(\n",
        "    \"chatbot\",\n",
        "    tools_condition,\n",
        ")\n",
        "# Any time a tool is called, we return to the chatbot to decide the next step\n",
        "graph_builder.add_edge(\"tools\", \"chatbot\")\n",
        "graph_builder.add_edge(START, \"chatbot\")"
      ],
      "metadata": {
        "colab": {
          "base_uri": "https://localhost:8080/"
        },
        "id": "ppz1U0kqKY53",
        "outputId": "6d9435a9-e7d8-4845-e9db-f48d8010bb34"
      },
      "execution_count": 22,
      "outputs": [
        {
          "output_type": "execute_result",
          "data": {
            "text/plain": [
              "<langgraph.graph.state.StateGraph at 0x7aa65072ba10>"
            ]
          },
          "metadata": {},
          "execution_count": 22
        }
      ]
    },
    {
      "cell_type": "code",
      "source": [
        "graph = graph_builder.compile(checkpointer=memory)"
      ],
      "metadata": {
        "id": "l1BCd-eoKepj"
      },
      "execution_count": 23,
      "outputs": []
    },
    {
      "cell_type": "code",
      "source": [
        "from IPython.display import Image, display\n",
        "\n",
        "try:\n",
        "    display(Image(graph.get_graph().draw_mermaid_png()))\n",
        "except Exception:\n",
        "    # This requires some extra dependencies and is optional\n",
        "    pass"
      ],
      "metadata": {
        "colab": {
          "base_uri": "https://localhost:8080/",
          "height": 266
        },
        "id": "AgFvCeXNKkio",
        "outputId": "896782bb-1870-41a6-c1d6-e7f749750884"
      },
      "execution_count": 24,
      "outputs": [
        {
          "output_type": "display_data",
          "data": {
            "image/png": "[encoded data removed]",
            "text/plain": [
              "<IPython.core.display.Image object>"
            ]
          },
          "metadata": {}
        }
      ]
    },
    {
      "cell_type": "code",
      "source": [
        "config = {\"configurable\": {\"thread_id\": \"1\"}}"
      ],
      "metadata": {
        "id": "wWfGHr6XKnKV"
      },
      "execution_count": 25,
      "outputs": []
    },
    {
      "cell_type": "code",
      "source": [
        "while True:\n",
        "    user_input = input(\"Enter your message (or 'q' or 'quit' to exit): \")\n",
        "    if user_input.lower() in ['q', 'quit']:\n",
        "        print(\"Exiting...\")\n",
        "        break\n",
        "\n",
        "    events = graph.stream(\n",
        "        {\"messages\": [{\"role\": \"user\", \"content\": user_input}]},\n",
        "        config,\n",
        "        stream_mode=\"values\",\n",
        "    )\n",
        "    for event in events:\n",
        "        event[\"messages\"][-1].pretty_print()"
      ],
      "metadata": {
        "colab": {
          "base_uri": "https://localhost:8080/"
        },
        "id": "kQVq9MRaKqcy",
        "outputId": "427f3171-a49e-48d8-9bcf-adb35a383087"
      },
      "execution_count": 29,
      "outputs": [
        {
          "output_type": "stream",
          "name": "stdout",
          "text": [
            "Enter your message (or 'q' or 'quit' to exit): Hi, how are you? My name is Subham\n",
            "================================\u001b[1m Human Message \u001b[0m=================================\n",
            "\n",
            "Hi, how are you? My name is Subham\n",
            "==================================\u001b[1m Ai Message \u001b[0m==================================\n",
            "\n",
            "Hello Subham, I am doing well, thank you for asking. How can I help you today?\n",
            "Enter your message (or 'q' or 'quit' to exit): Do you remember my name?\n",
            "================================\u001b[1m Human Message \u001b[0m=================================\n",
            "\n",
            "Do you remember my name?\n",
            "==================================\u001b[1m Ai Message \u001b[0m==================================\n",
            "\n",
            "Yes, I remember your name is Subham.\n",
            "Enter your message (or 'q' or 'quit' to exit): q\n",
            "Exiting...\n"
          ]
        }
      ]
    },
    {
      "cell_type": "code",
      "source": [
        "while True:\n",
        "    user_input = input(\"Enter your message (or 'q' or 'quit' to exit): \")\n",
        "    if user_input.lower() in ['q', 'quit']:\n",
        "        print(\"Exiting...\")\n",
        "        break\n",
        "\n",
        "    events = graph.stream(\n",
        "        {\"messages\": [{\"role\": \"user\", \"content\": user_input}]},\n",
        "        {\"configurable\": {\"thread_id\": \"2\"}},\n",
        "        stream_mode=\"values\",\n",
        "    )\n",
        "    for event in events:\n",
        "        event[\"messages\"][-1].pretty_print()"
      ],
      "metadata": {
        "colab": {
          "base_uri": "https://localhost:8080/"
        },
        "id": "Hpp-9dWOMiaX",
        "outputId": "e8e0eec6-36ba-4456-80c2-c5edbfdecfe5"
      },
      "execution_count": 32,
      "outputs": [
        {
          "output_type": "stream",
          "name": "stdout",
          "text": [
            "Enter your message (or 'q' or 'quit' to exit): Remember my name?\n",
            "================================\u001b[1m Human Message \u001b[0m=================================\n",
            "\n",
            "Remember my name?\n",
            "==================================\u001b[1m Ai Message \u001b[0m==================================\n",
            "\n",
            "I am sorry, I cannot remember your name. I have no memory of past conversations.\n",
            "Enter your message (or 'q' or 'quit' to exit): q\n",
            "Exiting...\n"
          ]
        }
      ]
    },
    {
      "cell_type": "code",
      "source": [
        "snapshot = graph.get_state(config)\n",
        "snapshot"
      ],
      "metadata": {
        "colab": {
          "base_uri": "https://localhost:8080/"
        },
        "id": "GjBT_93wM63b",
        "outputId": "40789f08-d97b-44ac-fa98-09dfa6700206"
      },
      "execution_count": 35,
      "outputs": [
        {
          "output_type": "execute_result",
          "data": {
            "text/plain": [
              "StateSnapshot(values={'messages': [HumanMessage(content='Hi, my name is Subham', additional_kwargs={}, response_metadata={}, id='3b8f8332-75aa-47c1-949b-bbcf8f881933'), HumanMessage(content='What do you know about LangGraph?', additional_kwargs={}, response_metadata={}, id='ba28c156-f4da-4a4b-9da3-c6e1a76bd7d0'), HumanMessage(content='Hi, my name is Subham', additional_kwargs={}, response_metadata={}, id='d9cf8e6a-d485-4ad0-972a-6a18c00f774f'), HumanMessage(content='What do you know about LangGraph?', additional_kwargs={}, response_metadata={}, id='4b0a8bed-1663-47e4-9d2d-548ee96dc5ae'), HumanMessage(content='My name is Subham', additional_kwargs={}, response_metadata={}, id='3d4e9f42-763f-4e3b-a66f-a3434d77e684'), AIMessage(content='', additional_kwargs={'function_call': {'name': 'tavily_search_results_json', 'arguments': '{\"query\": \"LangGraph\"}'}}, response_metadata={'prompt_feedback': {'block_reason': 0, 'safety_ratings': []}, 'finish_reason': 'STOP', 'model_name': 'gemini-2.0-flash-exp', 'safety_ratings': []}, id='run-781f573c-207a-4e69-a9b2-e62e197e1403-0', tool_calls=[{'name': 'tavily_search_results_json', 'args': {'query': 'LangGraph'}, 'id': 'f61e430d-0c5d-4b99-a320-80468744eb79', 'type': 'tool_call'}], usage_metadata={'input_tokens': 82, 'output_tokens': 11, 'total_tokens': 93, 'input_token_details': {'cache_read': 0}}), ToolMessage(content='[{\"title\": \"LangGraph Quickstart - GitHub Pages\", \"url\": \"https://langchain-ai.github.io/langgraph/tutorials/introduction/\", \"content\": \"[](https://langchain-ai.github.io/langgraph/tutorials/introduction/#__codelineno-9-1)Assistant: LangGraph is a library designed to help build stateful multi-agent applications using language models. It provides tools for creating workflows and state machines to coordinate multiple AI agents or language model interactions. LangGraph is built on top of LangChain, leveraging its components while adding graph-based coordination capabilities. It\\'s particularly useful for developing more complex, [...] [](https://langchain-ai.github.io/langgraph/tutorials/introduction/#__codelineno-21-6)   LangGraph is a library designed for building stateful, multi-actor applications with Large Language Models (LLMs). It\\'s particularly useful for creating agent and multi-agent workflows.\\\\n[](https://langchain-ai.github.io/langgraph/tutorials/introduction/#__codelineno-21-7)\\\\n[](https://langchain-ai.github.io/langgraph/tutorials/introduction/#__codelineno-21-8)2. Developer: [...] [](https://langchain-ai.github.io/langgraph/tutorials/introduction/#__codelineno-48-19)LangGraph is likely a framework or library designed specifically for creating AI agents with advanced capabilities. Here are a few points to consider based on this recommendation:\\\\n[](https://langchain-ai.github.io/langgraph/tutorials/introduction/#__codelineno-48-20)\", \"score\": 0.9328032}, {\"title\": \"LangGraph: Build Stateful AI Agents in Python - Real Python\", \"url\": \"https://realpython.com/langgraph-python/\", \"content\": \"Remove ads\\\\nLangGraph is a versatile Python library designed for stateful, cyclic, and multi-actor Large Language Model (LLM) applications. LangGraph builds upon its parent library, LangChain, and allows you to build sophisticated workflows that are capable of handling the complexities of real-world LLM applications.\\\\nBy the end of this tutorial, you’ll understand that: [...] These FAQs are related to the most important concepts you’ve covered in this tutorial. Click the Show/Hide toggle beside each question to reveal the answer.\\\\nWhat is LangGraph?Show/Hide\\\\nLangGraph is a Python library that helps you build stateful, cyclic, and multi-actor workflows for Large Language Model (LLM) applications, expanding upon LangChain’s capabilities.\\\\nHow does LangGraph differ from LangChain?Show/Hide [...] As you might have inferred from the name, LangGraph is all about implementing LLM applications as directed graphs. You can think of a directed graph as a sequence of instructions composed of nodes and edges, that tell you how to complete a task. In LangGraph, nodes represent actions that your graph can take, such as calling a function, and edges tell you which node to go to next.\\\\nTo understand this better, take a look at this directed graph:\", \"score\": 0.9184877}]', name='tavily_search_results_json', id='9353b2eb-6fdd-4021-820c-2c442ba9dcff', tool_call_id='f61e430d-0c5d-4b99-a320-80468744eb79', artifact={'query': 'LangGraph', 'follow_up_questions': None, 'answer': None, 'images': [], 'results': [{'url': 'https://langchain-ai.github.io/langgraph/tutorials/introduction/', 'title': 'LangGraph Quickstart - GitHub Pages', 'content': \"[](https://langchain-ai.github.io/langgraph/tutorials/introduction/#__codelineno-9-1)Assistant: LangGraph is a library designed to help build stateful multi-agent applications using language models. It provides tools for creating workflows and state machines to coordinate multiple AI agents or language model interactions. LangGraph is built on top of LangChain, leveraging its components while adding graph-based coordination capabilities. It's particularly useful for developing more complex, [...] [](https://langchain-ai.github.io/langgraph/tutorials/introduction/#__codelineno-21-6)   LangGraph is a library designed for building stateful, multi-actor applications with Large Language Models (LLMs). It's particularly useful for creating agent and multi-agent workflows.\\n[](https://langchain-ai.github.io/langgraph/tutorials/introduction/#__codelineno-21-7)\\n[](https://langchain-ai.github.io/langgraph/tutorials/introduction/#__codelineno-21-8)2. Developer: [...] [](https://langchain-ai.github.io/langgraph/tutorials/introduction/#__codelineno-48-19)LangGraph is likely a framework or library designed specifically for creating AI agents with advanced capabilities. Here are a few points to consider based on this recommendation:\\n[](https://langchain-ai.github.io/langgraph/tutorials/introduction/#__codelineno-48-20)\", 'score': 0.9328032, 'raw_content': None}, {'url': 'https://realpython.com/langgraph-python/', 'title': 'LangGraph: Build Stateful AI Agents in Python - Real Python', 'content': 'Remove ads\\nLangGraph is a versatile Python library designed for stateful, cyclic, and multi-actor Large Language Model (LLM) applications. LangGraph builds upon its parent library, LangChain, and allows you to build sophisticated workflows that are capable of handling the complexities of real-world LLM applications.\\nBy the end of this tutorial, you’ll understand that: [...] These FAQs are related to the most important concepts you’ve covered in this tutorial. Click the Show/Hide toggle beside each question to reveal the answer.\\nWhat is LangGraph?Show/Hide\\nLangGraph is a Python library that helps you build stateful, cyclic, and multi-actor workflows for Large Language Model (LLM) applications, expanding upon LangChain’s capabilities.\\nHow does LangGraph differ from LangChain?Show/Hide [...] As you might have inferred from the name, LangGraph is all about implementing LLM applications as directed graphs. You can think of a directed graph as a sequence of instructions composed of nodes and edges, that tell you how to complete a task. In LangGraph, nodes represent actions that your graph can take, such as calling a function, and edges tell you which node to go to next.\\nTo understand this better, take a look at this directed graph:', 'score': 0.9184877, 'raw_content': None}], 'response_time': 0.5}), AIMessage(content=\"LangGraph is a Python library built on top of LangChain that helps you build stateful, multi-actor applications with Large Language Models (LLMs). It's particularly useful for creating agent and multi-agent workflows by implementing LLM applications as directed graphs. Nodes in the graph represent actions, like calling a function, and edges dictate the next node to visit.\", additional_kwargs={}, response_metadata={'prompt_feedback': {'block_reason': 0, 'safety_ratings': []}, 'finish_reason': 'STOP', 'model_name': 'gemini-2.0-flash-exp', 'safety_ratings': []}, id='run-b05d47ad-8edf-4f5a-a00a-9fc80bf01d93-0', usage_metadata={'input_tokens': 746, 'output_tokens': 75, 'total_tokens': 821, 'input_token_details': {'cache_read': 0}}), HumanMessage(content='Do you remember my name?', additional_kwargs={}, response_metadata={}, id='460318bd-fe44-4de3-82f3-a9b00d70e76a'), AIMessage(content='Yes, your name is Subham.', additional_kwargs={}, response_metadata={'prompt_feedback': {'block_reason': 0, 'safety_ratings': []}, 'finish_reason': 'STOP', 'model_name': 'gemini-2.0-flash-exp', 'safety_ratings': []}, id='run-65441583-a356-4878-a8a2-df4bcb37fcb1-0', usage_metadata={'input_tokens': 826, 'output_tokens': 9, 'total_tokens': 835, 'input_token_details': {'cache_read': 0}}), HumanMessage(content='Hi, how are you? My name is Subham', additional_kwargs={}, response_metadata={}, id='c09c1af2-5077-42d9-9777-80a83e1abf93'), AIMessage(content='Hello Subham, I am doing well, thank you for asking. How can I help you today?', additional_kwargs={}, response_metadata={'prompt_feedback': {'block_reason': 0, 'safety_ratings': []}, 'finish_reason': 'STOP', 'model_name': 'gemini-2.0-flash-exp', 'safety_ratings': []}, id='run-824fc3d5-ffea-4709-bdfb-12125e59bebf-0', usage_metadata={'input_tokens': 845, 'output_tokens': 22, 'total_tokens': 867, 'input_token_details': {'cache_read': 0}}), HumanMessage(content='Do you remember my name?', additional_kwargs={}, response_metadata={}, id='8d4d5900-3688-4f1e-8e08-2b5448a14a6a'), AIMessage(content='Yes, I remember your name is Subham.', additional_kwargs={}, response_metadata={'prompt_feedback': {'block_reason': 0, 'safety_ratings': []}, 'finish_reason': 'STOP', 'model_name': 'gemini-2.0-flash-exp', 'safety_ratings': []}, id='run-bd511f9d-2526-41b6-8639-c8dafc43e5b7-0', usage_metadata={'input_tokens': 872, 'output_tokens': 11, 'total_tokens': 883, 'input_token_details': {'cache_read': 0}}), HumanMessage(content='Remember my name?', additional_kwargs={}, response_metadata={}, id='dbc03475-b356-4ef9-8671-dfd37c546f3c'), AIMessage(content='Yes, your name is Subham.', additional_kwargs={}, response_metadata={'prompt_feedback': {'block_reason': 0, 'safety_ratings': []}, 'finish_reason': 'STOP', 'model_name': 'gemini-2.0-flash-exp', 'safety_ratings': []}, id='run-ba784d72-66e0-420e-81e9-801a4aa82262-0', usage_metadata={'input_tokens': 886, 'output_tokens': 9, 'total_tokens': 895, 'input_token_details': {'cache_read': 0}})]}, next=(), config={'configurable': {'thread_id': '1', 'checkpoint_ns': '', 'checkpoint_id': '1f01fb8c-02bb-63c5-8017-c2d0c63964e5'}}, metadata={'source': 'loop', 'writes': {'chatbot': {'messages': [AIMessage(content='Yes, your name is Subham.', additional_kwargs={}, response_metadata={'prompt_feedback': {'block_reason': 0, 'safety_ratings': []}, 'finish_reason': 'STOP', 'model_name': 'gemini-2.0-flash-exp', 'safety_ratings': []}, id='run-ba784d72-66e0-420e-81e9-801a4aa82262-0', usage_metadata={'input_tokens': 886, 'output_tokens': 9, 'total_tokens': 895, 'input_token_details': {'cache_read': 0}})]}}, 'step': 23, 'parents': {}, 'thread_id': '1'}, created_at='2025-04-22T20:31:20.701816+00:00', parent_config={'configurable': {'thread_id': '1', 'checkpoint_ns': '', 'checkpoint_id': '1f01fb8b-feb7-6684-8016-2df14fc8601e'}}, tasks=())"
            ]
          },
          "metadata": {},
          "execution_count": 35
        }
      ]
    },
    {
      "cell_type": "markdown",
      "source": [
        "# **Human-in-the-loop**"
      ],
      "metadata": {
        "id": "TV2S8bxfNsCZ"
      }
    },
    {
      "cell_type": "markdown",
      "source": [
        "**LangGraph's persistence layer enables human-in-the-loop workflows by allowing execution to pause and resume based on user feedback. The interrupt function is the main tool for this, pausing execution when called within a node. Resumption occurs with new input from a human via a Command. Notably, interrupt is designed to feel similar to Python's standard input() function.**"
      ],
      "metadata": {
        "id": "_xtaoYwiPZY0"
      }
    },
    {
      "cell_type": "code",
      "source": [
        "from typing import Annotated\n",
        "\n",
        "import google.generativeai as genai\n",
        "import os\n",
        "from langchain_google_genai import ChatGoogleGenerativeAI\n",
        "from langchain_community.tools.tavily_search import TavilySearchResults\n",
        "from langchain_core.tools import tool\n",
        "from typing_extensions import TypedDict\n",
        "\n",
        "from langgraph.checkpoint.memory import MemorySaver\n",
        "from langgraph.graph import StateGraph, START, END\n",
        "from langgraph.graph.message import add_messages\n",
        "from langgraph.prebuilt import ToolNode, tools_condition\n",
        "\n",
        "from langgraph.types import Command, interrupt\n",
        "\n",
        "\n",
        "class State(TypedDict):\n",
        "    messages: Annotated[list, add_messages]\n",
        "\n",
        "\n",
        "graph_builder = StateGraph(State)\n",
        "\n",
        "\n",
        "@tool\n",
        "def human_assistance(query: str) -> str:\n",
        "    \"\"\"Request assistance from a human.\"\"\"\n",
        "    human_response = interrupt({\"query\": query})\n",
        "    return human_response[\"data\"]\n",
        "\n",
        "\n",
        "tool = TavilySearchResults(max_results=2)\n",
        "tools = [tool, human_assistance]\n",
        "llm = ChatGoogleGenerativeAI(model=\"gemini-2.0-flash-exp\")\n",
        "llm_with_tools = llm.bind_tools(tools)\n",
        "\n",
        "\n",
        "def chatbot(state: State):\n",
        "    message = llm_with_tools.invoke(state[\"messages\"])\n",
        "    # Because we will be interrupting during tool execution,\n",
        "    # we disable parallel tool calling to avoid repeating any\n",
        "    # tool invocations when we resume.\n",
        "    assert len(message.tool_calls) <= 1\n",
        "    return {\"messages\": [message]}\n",
        "\n",
        "\n",
        "graph_builder.add_node(\"chatbot\", chatbot)\n",
        "\n",
        "tool_node = ToolNode(tools=tools)\n",
        "graph_builder.add_node(\"tools\", tool_node)\n",
        "\n",
        "graph_builder.add_conditional_edges(\n",
        "    \"chatbot\",\n",
        "    tools_condition,\n",
        ")\n",
        "graph_builder.add_edge(\"tools\", \"chatbot\")\n",
        "graph_builder.add_edge(START, \"chatbot\")"
      ],
      "metadata": {
        "colab": {
          "base_uri": "https://localhost:8080/"
        },
        "id": "-8_8h52hNLTV",
        "outputId": "c4d77fc3-24fc-4a62-d26f-9e3e9d544d8a"
      },
      "execution_count": 36,
      "outputs": [
        {
          "output_type": "execute_result",
          "data": {
            "text/plain": [
              "<langgraph.graph.state.StateGraph at 0x7aa6505b6f90>"
            ]
          },
          "metadata": {},
          "execution_count": 36
        }
      ]
    },
    {
      "cell_type": "code",
      "source": [
        "memory = MemorySaver()\n",
        "\n",
        "graph = graph_builder.compile(checkpointer=memory)"
      ],
      "metadata": {
        "id": "5ww7gNi_OHyd"
      },
      "execution_count": 37,
      "outputs": []
    },
    {
      "cell_type": "code",
      "source": [
        "from IPython.display import Image, display\n",
        "\n",
        "try:\n",
        "    display(Image(graph.get_graph().draw_mermaid_png()))\n",
        "except Exception:\n",
        "    # This requires some extra dependencies and is optional\n",
        "    pass"
      ],
      "metadata": {
        "colab": {
          "base_uri": "https://localhost:8080/",
          "height": 266
        },
        "id": "n03Rya8AOLUQ",
        "outputId": "e08aa277-f4ff-40e2-ecd9-08d502546dbb"
      },
      "execution_count": 38,
      "outputs": [
        {
          "output_type": "display_data",
          "data": {
            "image/png": "[encoded data removed]",
            "text/plain": [
              "<IPython.core.display.Image object>"
            ]
          },
          "metadata": {}
        }
      ]
    },
    {
      "cell_type": "code",
      "source": [
        "user_input = \"I need some expert guidance for building an AI agent. Could you request assistance for me?\"\n",
        "config = {\"configurable\": {\"thread_id\": \"1\"}}\n",
        "\n",
        "events = graph.stream(\n",
        "    {\"messages\": [{\"role\": \"user\", \"content\": user_input}]},\n",
        "    config,\n",
        "    stream_mode=\"values\",\n",
        ")\n",
        "for event in events:\n",
        "    if \"messages\" in event:\n",
        "        event[\"messages\"][-1].pretty_print()"
      ],
      "metadata": {
        "colab": {
          "base_uri": "https://localhost:8080/"
        },
        "id": "T7ggW6qxOOnc",
        "outputId": "d375ddb0-51fb-416e-b371-04c397f64d7f"
      },
      "execution_count": 39,
      "outputs": [
        {
          "output_type": "stream",
          "name": "stdout",
          "text": [
            "================================\u001b[1m Human Message \u001b[0m=================================\n",
            "\n",
            "I need some expert guidance for building an AI agent. Could you request assistance for me?\n",
            "==================================\u001b[1m Ai Message \u001b[0m==================================\n",
            "Tool Calls:\n",
            "  human_assistance (59442e9b-605f-4672-b572-2fcaaf27f57e)\n",
            " Call ID: 59442e9b-605f-4672-b572-2fcaaf27f57e\n",
            "  Args:\n",
            "    query: I need expert guidance for building an AI agent.\n"
          ]
        }
      ]
    },
    {
      "cell_type": "code",
      "source": [
        "snapshot = graph.get_state(config)\n",
        "snapshot.next"
      ],
      "metadata": {
        "colab": {
          "base_uri": "https://localhost:8080/"
        },
        "id": "SsL2oBEEOgN_",
        "outputId": "81615356-c9c3-4bf5-efb0-cac52a864c23"
      },
      "execution_count": 40,
      "outputs": [
        {
          "output_type": "execute_result",
          "data": {
            "text/plain": [
              "('tools',)"
            ]
          },
          "metadata": {},
          "execution_count": 40
        }
      ]
    },
    {
      "cell_type": "markdown",
      "source": [
        "**If we have a human response that is already stored in db or a person who can take the call, the input can be integrated as follows**"
      ],
      "metadata": {
        "id": "JuIGT_ABPCnC"
      }
    },
    {
      "cell_type": "code",
      "source": [
        "human_response = (\n",
        "    \"We, the experts are here to help! We'd recommend you check out LangGraph to build your agent.\"\n",
        "    \" It's much more reliable and extensible than simple autonomous agents.\"\n",
        ")\n",
        "\n",
        "human_command = Command(resume={\"data\": human_response})\n",
        "\n",
        "events = graph.stream(human_command, config, stream_mode=\"values\")\n",
        "for event in events:\n",
        "    if \"messages\" in event:\n",
        "        event[\"messages\"][-1].pretty_print()"
      ],
      "metadata": {
        "colab": {
          "base_uri": "https://localhost:8080/"
        },
        "id": "LXqMQHm9OwFX",
        "outputId": "5d239ce8-d41f-49d1-aafa-874fb13c0a19"
      },
      "execution_count": 41,
      "outputs": [
        {
          "output_type": "stream",
          "name": "stdout",
          "text": [
            "==================================\u001b[1m Ai Message \u001b[0m==================================\n",
            "Tool Calls:\n",
            "  human_assistance (59442e9b-605f-4672-b572-2fcaaf27f57e)\n",
            " Call ID: 59442e9b-605f-4672-b572-2fcaaf27f57e\n",
            "  Args:\n",
            "    query: I need expert guidance for building an AI agent.\n",
            "=================================\u001b[1m Tool Message \u001b[0m=================================\n",
            "Name: human_assistance\n",
            "\n",
            "We, the experts are here to help! We'd recommend you check out LangGraph to build your agent. It's much more reliable and extensible than simple autonomous agents.\n",
            "==================================\u001b[1m Ai Message \u001b[0m==================================\n",
            "\n",
            "The experts recommend checking out LangGraph to build your agent. They say it's more reliable and extensible than simple autonomous agents.\n"
          ]
        }
      ]
    }
  ]
}